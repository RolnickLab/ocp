{
   "cells": [
      {
         "cell_type": "code",
         "execution_count": 1,
         "metadata": {},
         "outputs": [],
         "source": [
            "import torch\n",
            "from pathlib import Path\n",
            "import sys\n",
            "# import ocpmodels\n",
            "import numpy as np\n",
            "\n",
            "try:\n",
            "    if not(changed):\n",
            "        raise Exception()\n",
            "except:\n",
            "    # adds the parent directory of the current working directory to the system path.\n",
            "    # This ensures that Python modules in the parent directory are accessible.\n",
            "    sys.path.append(str(Path(\".\").absolute().parent))\n",
            "    changed = True\n",
            "\n",
            "%load_ext autoreload\n",
            "%autoreload 2"
         ]
      },
      {
         "cell_type": "code",
         "execution_count": 2,
         "metadata": {},
         "outputs": [],
         "source": [
            "from ocpmodels.common.utils import (\n",
            "    build_config,\n",
            "    create_grid,\n",
            "    save_experiment_log,\n",
            "    setup_imports,\n",
            "    setup_logging,\n",
            "    merge_dicts,\n",
            "    auto_note,\n",
            "    set_min_hidden_channels\n",
            ")\n",
            "from ocpmodels.common import dist_utils\n",
            "from ocpmodels.common.flags import flags\n",
            "from ocpmodels.common.registry import registry\n",
            "from ocpmodels.common.orion_utils import (\n",
            "    continue_orion_exp,\n",
            "    load_orion_exp,\n",
            "    sample_orion_hparams,\n",
            ")\n",
            "import logging\n",
            "from yaml import dump"
         ]
      },
      {
         "cell_type": "code",
         "execution_count": 3,
         "metadata": {},
         "outputs": [],
         "source": [
            "def dict2str(d, level=0, spaces=4, margin=30):\n",
            "    \"\"\"\n",
            "    simple recursive dict printing util\n",
            "    (victor)\n",
            "    \"\"\"\n",
            "    s = \"\"\n",
            "    for k, v in d.items():\n",
            "        s += f\"{' ' *spaces * level}{k:{margin-spaces*level}}: \"\n",
            "        if not isinstance(v, dict):\n",
            "            s += str(v)\n",
            "        else:\n",
            "            s += \"\\n\" + dict2str(v, level + 1, spaces, margin)\n",
            "        s += \"\\n\"\n",
            "    return s\n"
         ]
      },
      {
         "cell_type": "markdown",
         "metadata": {},
         "source": [
            "# Config"
         ]
      },
      {
         "cell_type": "code",
         "execution_count": 4,
         "metadata": {},
         "outputs": [],
         "source": [
            "sys.argv.append(\"--mode=train\")\n",
            "sys.argv.append(\"--config=schnet-is2re-10k\")\n",
            "setup_logging()"
         ]
      },
      {
         "cell_type": "code",
         "execution_count": 5,
         "metadata": {},
         "outputs": [
            {
               "name": "stdout",
               "output_type": "stream",
               "text": [
                  "sys.argv: ['/home/mila/b/basile.terver/ocp/ocp/venv/lib/python3.8/site-packages/ipykernel_launcher.py', '--f=/home/mila/b/basile.terver/.local/share/jupyter/runtime/kernel-v2-2156631QC0dPxHLxlsn.json', '--mode=train', '--config=schnet-is2re-10k']\n",
                  "sys.argv: ['/home/mila/b/basile.terver/ocp/ocp/venv/lib/python3.8/site-packages/ipykernel_launcher.py', '--mode=train', '--config=schnet-is2re-10k']\n"
               ]
            }
         ],
         "source": [
            "print(\"sys.argv:\",sys.argv)\n",
            "# enlever les arguments propres au kernel, pas dans les flags\n",
            "# argument parser lit juste sys.argv\n",
            "if sys.argv[1].startswith(\"--f\"):\n",
            "    sys.argv.remove(sys.argv[1])\n",
            "print(\"sys.argv:\",sys.argv)"
         ]
      },
      {
         "cell_type": "code",
         "execution_count": 6,
         "metadata": {},
         "outputs": [],
         "source": [
            "parser = flags.get_parser()\n",
            "args, override_args = parser.parse_known_args()"
         ]
      },
      {
         "cell_type": "code",
         "execution_count": 7,
         "metadata": {},
         "outputs": [
            {
               "name": "stdout",
               "output_type": "stream",
               "text": [
                  "🏭 Overriding num_workers from 4 to 1 to match the machine's CPUs. Use --no_cpus_to_workers=true to disable this behavior.\n",
                  "Config: \n",
                  "model                         : \n",
                  "    name                      : schnet\n",
                  "    num_filters               : 128\n",
                  "    num_gaussians             : 100\n",
                  "    hidden_channels           : 256\n",
                  "    num_interactions          : 3\n",
                  "    cutoff                    : 6.0\n",
                  "    use_pbc                   : True\n",
                  "    regress_forces            : \n",
                  "    readout                   : add\n",
                  "    atomref                   : None\n",
                  "    tag_hidden_channels       : 0\n",
                  "    pg_hidden_channels        : 0\n",
                  "    phys_embeds               : False\n",
                  "    phys_hidden_channels      : 0\n",
                  "    energy_head               : False\n",
                  "    noisy_nodes               : False\n",
                  "    otf_graph                 : False\n",
                  "    max_num_neighbors         : 40\n",
                  "\n",
                  "optim                         : \n",
                  "    batch_size                : 256\n",
                  "    eval_batch_size           : 256\n",
                  "    num_workers               : 1\n",
                  "    lr_gamma                  : 0.1\n",
                  "    warmup_factor             : 0.2\n",
                  "    epoch_fine_tune           : 5\n",
                  "    lr_initial                : 0.005\n",
                  "    max_epochs                : 20\n",
                  "    lr_milestones             : [1562, 2343, 3125]\n",
                  "    warmup_steps              : 468\n",
                  "    optimizer                 : AdamW\n",
                  "\n",
                  "trainer                       : single\n",
                  "logger                        : wandb\n",
                  "task                          : \n",
                  "    dataset                   : single_point_lmdb\n",
                  "    description               : Relaxed state energy prediction from initial structure.\n",
                  "    type                      : regression\n",
                  "    metric                    : mae\n",
                  "    labels                    : ['relaxed energy']\n",
                  "    name                      : is2re\n",
                  "    split                     : 10k\n",
                  "\n",
                  "normalizer                    : None\n",
                  "mode                          : train\n",
                  "adsorbates                    : all\n",
                  "adsorbates_ref_dir            : /network/scratch/s/schmidtv/ocp/datasets/ocp/per_ads\n",
                  "dataset                       : \n",
                  "    default_val               : val_id\n",
                  "    train                     : \n",
                  "        src                   : /network/scratch/s/schmidtv/ocp/datasets/ocp/is2re/10k/train\n",
                  "        normalize_labels      : True\n",
                  "        target_mean           : -1.525913953781128\n",
                  "        target_std            : 2.279365062713623\n",
                  "        split                 : 10k\n",
                  "\n",
                  "    val_id                    : \n",
                  "        src                   : /network/scratch/s/schmidtv/ocp/datasets/ocp/is2re/all/val_id/\n",
                  "        split                 : 10k\n",
                  "\n",
                  "    val_ood_cat               : \n",
                  "        src                   : /network/scratch/s/schmidtv/ocp/datasets/ocp/is2re/all/val_ood_cat/\n",
                  "        split                 : 10k\n",
                  "\n",
                  "    val_ood_ads               : \n",
                  "        src                   : /network/scratch/s/schmidtv/ocp/datasets/ocp/is2re/all/val_ood_ads/\n",
                  "        split                 : 10k\n",
                  "\n",
                  "    val_ood_both              : \n",
                  "        src                   : /network/scratch/s/schmidtv/ocp/datasets/ocp/is2re/all/val_ood_both/\n",
                  "        split                 : 10k\n",
                  "\n",
                  "\n",
                  "deup_dataset                  : \n",
                  "    create                    : False\n",
                  "    dataset_strs              : ['train', 'val_id', 'val_ood_cat', 'val_ood_ads']\n",
                  "    n_samples                 : 7\n",
                  "\n",
                  "config                        : schnet-is2re-10k\n",
                  "wandb_name                    : \n",
                  "is_debug                      : False\n",
                  "is_hpo                        : False\n",
                  "run_dir                       : /network/scratch/b/basile.terver/ocp/runs/4274674\n",
                  "print_every                   : -1\n",
                  "seed                          : 0\n",
                  "amp                           : False\n",
                  "silent                        : False\n",
                  "no_cpus_to_workers            : False\n",
                  "logdir                        : $SCRATCH/ocp/runs/$SLURM_JOB_ID\n",
                  "slurm_partition               : ocp\n",
                  "slurm_mem                     : 80\n",
                  "slurm_timeout                 : 72\n",
                  "num_gpus                      : 1\n",
                  "distributed                   : False\n",
                  "cpu                           : False\n",
                  "num_nodes                     : 1\n",
                  "distributed_port              : 13356\n",
                  "distributed_backend           : nccl\n",
                  "local_rank                    : 0\n",
                  "wandb_tags                    : \n",
                  "wandb_project                 : faenet++\n",
                  "use_pbc                       : True\n",
                  "test_ri                       : False\n",
                  "frame_averaging               : \n",
                  "fa_method                     : \n",
                  "grad_fine_tune                : False\n",
                  "cp_data_to_tmpdir             : False\n",
                  "log_train_every               : 100\n",
                  "no_metrics_denorm             : False\n",
                  "inference_time_loops          : 3\n",
                  "noisy_nodes                   : False\n",
                  "data_split                    : 10k\n",
                  "slurm                         : \n",
                  "\n",
                  "job_id                        : 4274674\n",
                  "job_ids                       : 4274674\n",
                  "cluster_name                  : mila\n",
                  "world_size                    : 1\n",
                  "\n"
               ]
            }
         ],
         "source": [
            "config = build_config(args, override_args)\n",
            "print(\"Config:\", \"\\n\" + dict2str(config))"
         ]
      },
      {
         "cell_type": "markdown",
         "metadata": {},
         "source": [
            "### Override config"
         ]
      },
      {
         "cell_type": "code",
         "execution_count": 8,
         "metadata": {},
         "outputs": [],
         "source": [
            "config[\"optim\"][\"num_workers\"] = 4\n",
            "config[\"optim\"][\"batch_size\"] = 1"
         ]
      },
      {
         "cell_type": "code",
         "execution_count": 9,
         "metadata": {},
         "outputs": [
            {
               "name": "stdout",
               "output_type": "stream",
               "text": [
                  "2024-03-02 09:52:11 (INFO): Enabling RDKit 2023.09.1 jupyter extensions\n",
                  "\n",
                  "🚩 All things imported.\n",
                  "\n"
               ]
            }
         ],
         "source": [
            "config[\"dataset\"] = dist_utils.broadcast_from_master(\n",
            "config[\"dataset\"]\n",
            ")\n",
            "\n",
            "# -- Initial setup\n",
            "\n",
            "setup_imports()\n",
            "print(\"\\n🚩 All things imported.\\n\")\n",
            "# -- Orion\n",
            "\n",
            "hparams = {}\n",
            "\n",
            "hparams = dist_utils.broadcast_from_master(hparams)\n",
            "if hparams:\n",
            "    print(\"\\n💎 Received hyper-parameters from Orion:\")\n",
            "    print(dump(hparams), end=\"\\n\")\n",
            "    trainer_config = merge_dicts(config, hparams)\n",
            "\n",
            "# -- Setup trainer\n",
            "\n",
            "trainer_config = continue_orion_exp(config)\n",
            "trainer_config = auto_note(config)\n",
            "trainer_config = set_min_hidden_channels(config)"
         ]
      },
      {
         "cell_type": "code",
         "execution_count": 10,
         "metadata": {},
         "outputs": [
            {
               "name": "stdout",
               "output_type": "stream",
               "text": [
                  "Config: \n",
                  "model                         : \n",
                  "    name                      : schnet\n",
                  "    num_filters               : 128\n",
                  "    num_gaussians             : 100\n",
                  "    hidden_channels           : 256\n",
                  "    num_interactions          : 3\n",
                  "    cutoff                    : 6.0\n",
                  "    use_pbc                   : True\n",
                  "    regress_forces            : \n",
                  "    readout                   : add\n",
                  "    atomref                   : None\n",
                  "    tag_hidden_channels       : 0\n",
                  "    pg_hidden_channels        : 0\n",
                  "    phys_embeds               : False\n",
                  "    phys_hidden_channels      : 0\n",
                  "    energy_head               : False\n",
                  "    noisy_nodes               : False\n",
                  "    otf_graph                 : False\n",
                  "    max_num_neighbors         : 40\n",
                  "\n",
                  "optim                         : \n",
                  "    batch_size                : 1\n",
                  "    eval_batch_size           : 256\n",
                  "    num_workers               : 4\n",
                  "    lr_gamma                  : 0.1\n",
                  "    warmup_factor             : 0.2\n",
                  "    epoch_fine_tune           : 5\n",
                  "    lr_initial                : 0.005\n",
                  "    max_epochs                : 20\n",
                  "    lr_milestones             : [1562, 2343, 3125]\n",
                  "    warmup_steps              : 468\n",
                  "    optimizer                 : AdamW\n",
                  "\n",
                  "trainer                       : single\n",
                  "logger                        : wandb\n",
                  "task                          : \n",
                  "    dataset                   : single_point_lmdb\n",
                  "    description               : Relaxed state energy prediction from initial structure.\n",
                  "    type                      : regression\n",
                  "    metric                    : mae\n",
                  "    labels                    : ['relaxed energy']\n",
                  "    name                      : is2re\n",
                  "    split                     : 10k\n",
                  "\n",
                  "normalizer                    : None\n",
                  "mode                          : train\n",
                  "adsorbates                    : all\n",
                  "adsorbates_ref_dir            : /network/scratch/s/schmidtv/ocp/datasets/ocp/per_ads\n",
                  "dataset                       : \n",
                  "    default_val               : val_id\n",
                  "    train                     : \n",
                  "        src                   : /network/scratch/s/schmidtv/ocp/datasets/ocp/is2re/10k/train\n",
                  "        normalize_labels      : True\n",
                  "        target_mean           : -1.525913953781128\n",
                  "        target_std            : 2.279365062713623\n",
                  "        split                 : 10k\n",
                  "\n",
                  "    val_id                    : \n",
                  "        src                   : /network/scratch/s/schmidtv/ocp/datasets/ocp/is2re/all/val_id/\n",
                  "        split                 : 10k\n",
                  "\n",
                  "    val_ood_cat               : \n",
                  "        src                   : /network/scratch/s/schmidtv/ocp/datasets/ocp/is2re/all/val_ood_cat/\n",
                  "        split                 : 10k\n",
                  "\n",
                  "    val_ood_ads               : \n",
                  "        src                   : /network/scratch/s/schmidtv/ocp/datasets/ocp/is2re/all/val_ood_ads/\n",
                  "        split                 : 10k\n",
                  "\n",
                  "    val_ood_both              : \n",
                  "        src                   : /network/scratch/s/schmidtv/ocp/datasets/ocp/is2re/all/val_ood_both/\n",
                  "        split                 : 10k\n",
                  "\n",
                  "\n",
                  "deup_dataset                  : \n",
                  "    create                    : False\n",
                  "    dataset_strs              : ['train', 'val_id', 'val_ood_cat', 'val_ood_ads']\n",
                  "    n_samples                 : 7\n",
                  "\n",
                  "config                        : schnet-is2re-10k\n",
                  "wandb_name                    : \n",
                  "is_debug                      : False\n",
                  "is_hpo                        : False\n",
                  "run_dir                       : /network/scratch/b/basile.terver/ocp/runs/4274674\n",
                  "print_every                   : -1\n",
                  "seed                          : 0\n",
                  "amp                           : False\n",
                  "silent                        : False\n",
                  "no_cpus_to_workers            : False\n",
                  "logdir                        : $SCRATCH/ocp/runs/$SLURM_JOB_ID\n",
                  "slurm_partition               : ocp\n",
                  "slurm_mem                     : 80\n",
                  "slurm_timeout                 : 72\n",
                  "num_gpus                      : 1\n",
                  "distributed                   : False\n",
                  "cpu                           : False\n",
                  "num_nodes                     : 1\n",
                  "distributed_port              : 13356\n",
                  "distributed_backend           : nccl\n",
                  "local_rank                    : 0\n",
                  "wandb_tags                    : \n",
                  "wandb_project                 : faenet++\n",
                  "use_pbc                       : True\n",
                  "test_ri                       : False\n",
                  "frame_averaging               : \n",
                  "fa_method                     : \n",
                  "grad_fine_tune                : False\n",
                  "cp_data_to_tmpdir             : False\n",
                  "log_train_every               : 100\n",
                  "no_metrics_denorm             : False\n",
                  "inference_time_loops          : 3\n",
                  "noisy_nodes                   : False\n",
                  "data_split                    : 10k\n",
                  "slurm                         : \n",
                  "\n",
                  "job_id                        : 4274674\n",
                  "job_ids                       : 4274674\n",
                  "cluster_name                  : mila\n",
                  "world_size                    : 1\n",
                  "\n"
               ]
            }
         ],
         "source": [
            "print(\"Config:\", \"\\n\" + dict2str(config))"
         ]
      },
      {
         "cell_type": "code",
         "execution_count": 11,
         "metadata": {},
         "outputs": [],
         "source": [
            "config[\"logger\"]=\"dummy\""
         ]
      },
      {
         "cell_type": "markdown",
         "metadata": {},
         "source": [
            "### Make trainer and task"
         ]
      },
      {
         "cell_type": "code",
         "execution_count": 12,
         "metadata": {},
         "outputs": [
            {
               "name": "stdout",
               "output_type": "stream",
               "text": [
                  "\n",
                  "🧰 Trainer config:\n",
                  "------------------\n",
                  "\n",
                  "adsorbates: all\n",
                  "adsorbates_ref_dir: /network/scratch/s/schmidtv/ocp/datasets/ocp/per_ads\n",
                  "amp: false\n",
                  "checkpoint_dir: /network/scratch/b/basile.terver/ocp/runs/4274674/checkpoints\n",
                  "cluster_name: mila\n",
                  "commit: 9661761b\n",
                  "config: schnet-is2re-10k\n",
                  "cp_data_to_tmpdir: false\n",
                  "cpu: false\n",
                  "data_split: 10k\n",
                  "dataset:\n",
                  "  default_val: val_id\n",
                  "  train:\n",
                  "    normalize_labels: true\n",
                  "    split: 10k\n",
                  "    src: /network/scratch/s/schmidtv/ocp/datasets/ocp/is2re/10k/train\n",
                  "    target_mean: -1.525913953781128\n",
                  "    target_std: 2.279365062713623\n",
                  "  val_id:\n",
                  "    split: 10k\n",
                  "    src: /network/scratch/s/schmidtv/ocp/datasets/ocp/is2re/all/val_id/\n",
                  "  val_ood_ads:\n",
                  "    split: 10k\n",
                  "    src: /network/scratch/s/schmidtv/ocp/datasets/ocp/is2re/all/val_ood_ads/\n",
                  "  val_ood_both:\n",
                  "    split: 10k\n",
                  "    src: /network/scratch/s/schmidtv/ocp/datasets/ocp/is2re/all/val_ood_both/\n",
                  "  val_ood_cat:\n",
                  "    split: 10k\n",
                  "    src: /network/scratch/s/schmidtv/ocp/datasets/ocp/is2re/all/val_ood_cat/\n",
                  "deup_dataset:\n",
                  "  create: false\n",
                  "  dataset_strs:\n",
                  "  - train\n",
                  "  - val_id\n",
                  "  - val_ood_cat\n",
                  "  - val_ood_ads\n",
                  "  n_samples: 7\n",
                  "distributed: false\n",
                  "distributed_backend: nccl\n",
                  "distributed_port: 13356\n",
                  "early_stopping_file: /network/scratch/b/basile.terver/ocp/runs/4274674/23f33472-9f0e-43e2-ae4f-4d1f76fc2f96.stop\n",
                  "fa_method: ''\n",
                  "frame_averaging: ''\n",
                  "gpus: 1\n",
                  "grad_fine_tune: false\n",
                  "inference_time_loops: 3\n",
                  "is_debug: false\n",
                  "is_hpo: false\n",
                  "job_id: '4274674'\n",
                  "job_ids: '4274674'\n",
                  "local_rank: 0\n",
                  "log_train_every: 100\n",
                  "logdir: !!python/object/apply:pathlib.PosixPath\n",
                  "- $SCRATCH\n",
                  "- ocp\n",
                  "- runs\n",
                  "- $SLURM_JOB_ID\n",
                  "logger: dummy\n",
                  "logs_dir: /network/scratch/b/basile.terver/ocp/runs/4274674/logs\n",
                  "mode: train\n",
                  "model:\n",
                  "  atomref: null\n",
                  "  cutoff: 6.0\n",
                  "  energy_head: false\n",
                  "  graph_rewiring: null\n",
                  "  hidden_channels: 256\n",
                  "  max_num_neighbors: 40\n",
                  "  noisy_nodes: false\n",
                  "  num_filters: 128\n",
                  "  num_gaussians: 100\n",
                  "  num_interactions: 3\n",
                  "  otf_graph: false\n",
                  "  pg_hidden_channels: 0\n",
                  "  phys_embeds: false\n",
                  "  phys_hidden_channels: 0\n",
                  "  readout: add\n",
                  "  regress_forces: ''\n",
                  "  tag_hidden_channels: 0\n",
                  "  use_pbc: true\n",
                  "model_name: schnet\n",
                  "no_cpus_to_workers: false\n",
                  "no_metrics_denorm: false\n",
                  "noisy_nodes: false\n",
                  "normalizer: null\n",
                  "num_gpus: 1\n",
                  "num_nodes: 1\n",
                  "optim:\n",
                  "  batch_size: 1\n",
                  "  epoch_fine_tune: 5\n",
                  "  eval_batch_size: 256\n",
                  "  lr_gamma: 0.1\n",
                  "  lr_initial: 0.005\n",
                  "  lr_milestones:\n",
                  "  - 1562\n",
                  "  - 2343\n",
                  "  - 3125\n",
                  "  max_epochs: 20\n",
                  "  num_workers: 4\n",
                  "  optimizer: AdamW\n",
                  "  warmup_factor: 0.2\n",
                  "  warmup_steps: 468\n",
                  "print_every: -1\n",
                  "results_dir: /network/scratch/b/basile.terver/ocp/runs/4274674/results\n",
                  "run_dir: !!python/object/apply:pathlib.PosixPath\n",
                  "- /\n",
                  "- network\n",
                  "- scratch\n",
                  "- b\n",
                  "- basile.terver\n",
                  "- ocp\n",
                  "- runs\n",
                  "- '4274674'\n",
                  "seed: 0\n",
                  "silent: false\n",
                  "slurm: {}\n",
                  "slurm_mem: 80\n",
                  "slurm_partition: ocp\n",
                  "slurm_timeout: 72\n",
                  "task:\n",
                  "  dataset: single_point_lmdb\n",
                  "  description: Relaxed state energy prediction from initial structure.\n",
                  "  labels:\n",
                  "  - relaxed energy\n",
                  "  metric: mae\n",
                  "  name: is2re\n",
                  "  split: 10k\n",
                  "  type: regression\n",
                  "test_ri: false\n",
                  "timestamp_id: 2024-03-02-09-51-44\n",
                  "trainer: single\n",
                  "use_pbc: true\n",
                  "wandb_name: ''\n",
                  "wandb_project: faenet++\n",
                  "wandb_tags: ''\n",
                  "world_size: 1\n",
                  "\n",
                  "\n",
                  "\n",
                  "\n",
                  "🚦  Create /network/scratch/b/basile.terver/ocp/runs/4274674/23f33472-9f0e-43e2-ae4f-4d1f76fc2f96.stop to stop the training after the next validation\n",
                  "\n",
                  "Setting max_steps to  200000 from max_epochs (20), dataset length (10000), and batch_size (1)\n",
                  "\n",
                  "2024-03-02 09:52:15 (INFO): Loaded SchNet with 537857 parameters.\n",
                  "self.auxiliary_task_weight: 0.0\n",
                  "self.use_interpolate_init_relaxed_pos: False\n",
                  "self.total_steps: 200000\n",
                  "self.current_auxiliary_task_weight: 0.0\n"
               ]
            }
         ],
         "source": [
            "setup_imports()\n",
            "# registry.get_trainer_class(config.get(\"trainer\", \"energy\")) is SingleTrainer()\n",
            "# all the other arguments that represent the **kwargs in the constructor of BaseTrainer()\n",
            "\"\"\"trainer = registry.get_trainer_class(config.get(\"trainer\", \"energy\"))(\n",
            "                task=config[\"task\"],\n",
            "                model=config[\"model\"],\n",
            "                dataset=config[\"dataset\"],\n",
            "                optim=config[\"optim\"],\n",
            "                # identifier=config[\"identifier\"],\n",
            "                timestamp_id=config.get(\"timestamp_id\", None),\n",
            "                run_dir=config.get(\"run_dir\", \"./\"),\n",
            "                is_debug=config.get(\"is_debug\", False),\n",
            "                print_every=config.get(\"print_every\", 10),\n",
            "                seed=config.get(\"seed\", 0),\n",
            "                logger=config.get(\"logger\", \"tensorboard\"),\n",
            "                local_rank=config[\"local_rank\"],\n",
            "                amp=config.get(\"amp\", False),\n",
            "                cpu=config.get(\"cpu\", False),\n",
            "                slurm=config.get(\"slurm\", {}),\n",
            "                test_ri=config.get(\"test_ri\",None),\n",
            "                is_hpo=config.get(\"is_hpo\",None),\n",
            "                silent=config.get(\"silent\",None),\n",
            "                normalizer=config.get(\"normalizer\",None),\n",
            "                config=config.get(\"config\",None)\n",
            "            )\"\"\"\n",
            "trainer = registry.get_trainer_class(config.get(\"trainer\", \"energy\"))(**config)"
         ]
      },
      {
         "cell_type": "code",
         "execution_count": 13,
         "metadata": {},
         "outputs": [],
         "source": [
            "task = registry.get_task_class(config[\"mode\"])(config)"
         ]
      },
      {
         "cell_type": "code",
         "execution_count": 14,
         "metadata": {},
         "outputs": [],
         "source": [
            "task.setup(trainer)"
         ]
      },
      {
         "cell_type": "markdown",
         "metadata": {},
         "source": [
            "# Explore Trainer"
         ]
      },
      {
         "cell_type": "code",
         "execution_count": 15,
         "metadata": {},
         "outputs": [
            {
               "name": "stdout",
               "output_type": "stream",
               "text": [
                  "SingleTrainer\n"
               ]
            }
         ],
         "source": [
            "print(trainer.__class__.__name__)"
         ]
      },
      {
         "cell_type": "markdown",
         "metadata": {},
         "source": [
            "## Data"
         ]
      },
      {
         "cell_type": "markdown",
         "metadata": {},
         "source": [
            "Data explanations can also be found in `scripts/README_is2res.md`"
         ]
      },
      {
         "cell_type": "code",
         "execution_count": 16,
         "metadata": {},
         "outputs": [
            {
               "ename": "AttributeError",
               "evalue": "'SingleTrainer' object has no attribute 'train_loader'",
               "output_type": "error",
               "traceback": [
                  "\u001b[0;31m---------------------------------------------------------------------------\u001b[0m",
                  "\u001b[0;31mAttributeError\u001b[0m                            Traceback (most recent call last)",
                  "Cell \u001b[0;32mIn[16], line 2\u001b[0m\n\u001b[1;32m      1\u001b[0m \u001b[38;5;66;03m# get 1 list of batches (depending on number of GPUs)\u001b[39;00m\n\u001b[0;32m----> 2\u001b[0m \u001b[38;5;28;01mfor\u001b[39;00m batch \u001b[38;5;129;01min\u001b[39;00m \u001b[43mtrainer\u001b[49m\u001b[38;5;241;43m.\u001b[39;49m\u001b[43mtrain_loader\u001b[49m:\n\u001b[1;32m      3\u001b[0m     \u001b[38;5;28;01mbreak\u001b[39;00m\n",
                  "\u001b[0;31mAttributeError\u001b[0m: 'SingleTrainer' object has no attribute 'train_loader'"
               ]
            }
         ],
         "source": [
            "# get 1 list of batches (depending on number of GPUs)\n",
            "for batch in trainer.train_loader:\n",
            "    break"
         ]
      },
      {
         "cell_type": "code",
         "execution_count": null,
         "metadata": {},
         "outputs": [
            {
               "name": "stdout",
               "output_type": "stream",
               "text": [
                  "1\n"
               ]
            }
         ],
         "source": [
            "print(len(batch)) # 1?\n",
            "# take the first elt of the list of batches (depending on number of GPUs)\n",
            "b = batch[0]"
         ]
      },
      {
         "cell_type": "markdown",
         "metadata": {},
         "source": [
            "### Batch contents"
         ]
      },
      {
         "cell_type": "code",
         "execution_count": null,
         "metadata": {},
         "outputs": [
            {
               "data": {
                  "text/plain": [
                     "DataBatch(edge_index=[2, 1372], pos=[40, 3], cell=[1, 3, 3], atomic_numbers=[40], natoms=[1], cell_offsets=[1372, 3], force=[40, 3], distances=[1372], fixed=[40], sid=[1], tags=[40], y_init=[1], y_relaxed=[1], pos_relaxed=[40, 3], batch=[40], ptr=[2], neighbors=[1])"
                  ]
               },
               "execution_count": 21,
               "metadata": {},
               "output_type": "execute_result"
            }
         ],
         "source": [
            "# what's a batch item?\n",
            "b"
         ]
      },
      {
         "cell_type": "code",
         "execution_count": null,
         "metadata": {},
         "outputs": [
            {
               "name": "stdout",
               "output_type": "stream",
               "text": [
                  "`edge_index` contains the edges of all graphs in the batch:\n",
                  "torch.Size([2, 170988])\n",
                  "tensor([[  19,   18,   14,  ..., 4570, 4514, 4530],\n",
                  "        [   0,    0,    0,  ..., 4584, 4584, 4584]], device='cuda:0')\n"
               ]
            }
         ],
         "source": [
            "print(\"`edge_index` contains the edges of all graphs in the batch:\")\n",
            "print(b.edge_index.shape)\n",
            "print(b.edge_index)"
         ]
      },
      {
         "cell_type": "code",
         "execution_count": null,
         "metadata": {},
         "outputs": [
            {
               "name": "stdout",
               "output_type": "stream",
               "text": [
                  "`batch` contains the graph id of each atom in the batch:\n",
                  "torch.Size([4585])\n",
                  "tensor([ 0,  0,  0,  ..., 63, 63, 63], device='cuda:0')\n"
               ]
            }
         ],
         "source": [
            "print(\"`batch` contains the graph id of each atom in the batch:\")\n",
            "print(b.batch.shape)\n",
            "print(b.batch)"
         ]
      },
      {
         "cell_type": "code",
         "execution_count": null,
         "metadata": {},
         "outputs": [
            {
               "name": "stdout",
               "output_type": "stream",
               "text": [
                  "`pos` and `pos_relaxed` contain the 3D position of each atom in the batch, respectively initially or in the relaxed state:\n",
                  "torch.Size([4585, 3]) torch.Size([4585, 3])\n",
                  "tensor([[ 6.3715,  1.4460, 16.5523],\n",
                  "        [ 9.9958,  1.4460, 18.7673],\n",
                  "        [ 2.7473,  1.4460, 14.3374]], device='cuda:0')\n",
                  "tensor([[ 6.3715,  1.4460, 16.5523],\n",
                  "        [ 9.9823,  1.3752, 18.7785],\n",
                  "        [ 2.7473,  1.4460, 14.3374]], device='cuda:0')\n"
               ]
            }
         ],
         "source": [
            "print(\"`pos` and `pos_relaxed` contain the 3D position of each atom in the batch, respectively initially or in the relaxed state:\")\n",
            "print(b.pos.shape, b.pos_relaxed.shape)\n",
            "print(b.pos[:3])\n",
            "print(b.pos_relaxed[:3])"
         ]
      },
      {
         "cell_type": "code",
         "execution_count": null,
         "metadata": {},
         "outputs": [
            {
               "name": "stdout",
               "output_type": "stream",
               "text": [
                  "`cell` contains the 3D cell dimensions of each graph:\n",
                  "torch.Size([64, 3, 3])\n",
                  "tensor([[[10.8727, -0.0000, -1.5002],\n",
                  "         [-3.6242,  7.3342, -2.2150],\n",
                  "         [ 0.0000,  0.0000, 32.5804]],\n",
                  "\n",
                  "        [[10.8287,  0.0000,  0.0000],\n",
                  "         [ 0.0000, 10.9216,  2.1019],\n",
                  "         [ 0.0000,  0.0000, 29.4261]]], device='cuda:0')\n"
               ]
            }
         ],
         "source": [
            "print(\"`cell` contains the 3D cell dimensions of each graph:\")\n",
            "print(b.cell.shape)\n",
            "print(b.cell[:2])"
         ]
      },
      {
         "cell_type": "code",
         "execution_count": null,
         "metadata": {},
         "outputs": [
            {
               "name": "stdout",
               "output_type": "stream",
               "text": [
                  "`atomic_numbers` contains the atomic number of each atom in the batch:\n",
                  "torch.Size([4585])\n",
                  "tensor([39., 39., 39.,  ...,  1.,  1.,  8.], device='cuda:0')\n"
               ]
            }
         ],
         "source": [
            "print(\"`atomic_numbers` contains the atomic number of each atom in the batch:\")\n",
            "print(b.atomic_numbers.shape)\n",
            "print(b.atomic_numbers)"
         ]
      },
      {
         "cell_type": "code",
         "execution_count": null,
         "metadata": {},
         "outputs": [
            {
               "name": "stdout",
               "output_type": "stream",
               "text": [
                  "`natoms` contains the number of atoms in each graph in the batch:\n",
                  "torch.Size([64])\n",
                  "tensor([ 40,  55,  43,  56,  78, 111,  70,  63,  67,  99, 100,  52,  60,  90,\n",
                  "         40,  69,  77,  99,  52,  85, 100,  32,  50,  78,  67,  66,  68,  79,\n",
                  "        114,  53,  54,  79,  97, 183,  92,  67,  75,  50,  10, 100,  64,  51,\n",
                  "         87,  54,  70,  87,  65, 103,  70,  70,  65,  69,  52,  98,  59,  49,\n",
                  "         75,  69,  40,  67,  71,  32,  85, 113], device='cuda:0')\n",
                  "tensor(4585, device='cuda:0')\n"
               ]
            }
         ],
         "source": [
            "print(\"`natoms` contains the number of atoms in each graph in the batch:\")\n",
            "print(b.natoms.shape)\n",
            "print(b.natoms)\n",
            "print(b.natoms.sum())"
         ]
      },
      {
         "cell_type": "code",
         "execution_count": null,
         "metadata": {},
         "outputs": [
            {
               "name": "stdout",
               "output_type": "stream",
               "text": [
                  "`cell_offsets` contains the 3D 'cell offset' of each edge in the batch:\n",
                  "\n",
                  "[n_edges x 3] offset matrix where each index corresponds to the unit cell offset necessary to find the corresponding neighbor in  `edge_index`. For example,  `cell_offsets[0, :] = [0,1,0]` corresponds to `edge_index[:, 0]= [1,0]` representing node 1 as node 0’s neighbor located one unit cell over in the +y direction.\n",
                  "\n",
                  "torch.Size([170988, 3])\n",
                  "tensor([[0, 0, 0],\n",
                  "        [0, 0, 0],\n",
                  "        [0, 0, 0],\n",
                  "        ...,\n",
                  "        [0, 0, 0],\n",
                  "        [0, 0, 0],\n",
                  "        [0, 0, 0]], device='cuda:0')\n",
                  "tensor([-1,  0,  1], device='cuda:0')\n",
                  "\n",
                  "\n",
                  "\n",
                  "tensor([ 0, -1,  0], device='cuda:0')\n",
                  "tensor([10,  0], device='cuda:0')\n",
                  "tensor([[10.8727, -0.0000, -1.5002],\n",
                  "        [-3.6242,  7.3342, -2.2150],\n",
                  "        [ 0.0000,  0.0000, 32.5804]], device='cuda:0')\n",
                  "tensor(5.5423, device='cuda:0')\n",
                  "tensor(8.4754, device='cuda:0')\n"
               ]
            }
         ],
         "source": [
            "print(\"`cell_offsets` contains the 3D 'cell offset' of each edge in the batch:\\n\")\n",
            "print(\"[n_edges x 3] offset matrix where each index corresponds to the unit cell offset necessary to find the corresponding neighbor in  `edge_index`. For example,  `cell_offsets[0, :] = [0,1,0]` corresponds to `edge_index[:, 0]= [1,0]` representing node 1 as node 0’s neighbor located one unit cell over in the +y direction.\\n\")\n",
            "print(b.cell_offsets.shape)\n",
            "print(b.cell_offsets)\n",
            "print(torch.unique(b.cell_offsets))\n",
            "\n",
            "print()\n",
            "print()\n",
            "print()\n",
            "\n",
            "print(b.cell_offsets[38, :])\n",
            "print(b.edge_index[:, 38])\n",
            "print(b.cell[0])\n",
            "print(b.distances[36])\n",
            "print(torch.norm(b.cell[0][1]))"
         ]
      },
      {
         "cell_type": "code",
         "execution_count": null,
         "metadata": {},
         "outputs": [
            {
               "name": "stdout",
               "output_type": "stream",
               "text": [
                  "`force` contains the 3D forces 'experienced' by each atom in the batch:\n",
                  "torch.Size([4585, 3])\n",
                  "tensor([ 0.2466, -0.0354,  0.4422], device='cuda:0')\n"
               ]
            }
         ],
         "source": [
            "print(\"`force` contains the 3D forces 'experienced' by each atom in the batch:\")\n",
            "print(b.force.shape)\n",
            "print(b.force)"
         ]
      },
      {
         "cell_type": "code",
         "execution_count": null,
         "metadata": {},
         "outputs": [
            {
               "name": "stdout",
               "output_type": "stream",
               "text": [
                  "`distances` contains the length (A?) of each edge in the batch\n",
                  "torch.Size([170988])\n",
                  "tensor([2.9223, 2.9223, 2.9319,  ..., 5.9122, 5.9325, 5.9584], device='cuda:0')\n"
               ]
            }
         ],
         "source": [
            "print(\"`distances` contains the length (A?) of each edge in the batch\")\n",
            "print(b.distances.shape)\n",
            "print(b.distances)"
         ]
      },
      {
         "cell_type": "code",
         "execution_count": null,
         "metadata": {},
         "outputs": [
            {
               "name": "stdout",
               "output_type": "stream",
               "text": [
                  "`fixed` contains the boolean flag for each atom being fixed or not\n",
                  "torch.Size([4585])\n",
                  "tensor([1., 0., 1.,  ..., 0., 0., 0.], device='cuda:0')\n"
               ]
            }
         ],
         "source": [
            "print(\"`fixed` contains the boolean flag for each atom being fixed or not\")\n",
            "print(b.fixed.shape)\n",
            "print(b.fixed)"
         ]
      },
      {
         "cell_type": "code",
         "execution_count": null,
         "metadata": {},
         "outputs": [
            {
               "name": "stdout",
               "output_type": "stream",
               "text": [
                  "`sid` contains the system id associated with each graph in the batch\n",
                  "torch.Size([64])\n",
                  "tensor([1831766, 1974982,  589818, 2158881,  550912], device='cuda:0')\n"
               ]
            }
         ],
         "source": [
            "print(\"`sid` contains the system id associated with each graph in the batch\")\n",
            "print(b.sid.shape)\n",
            "print(b.sid[:5])"
         ]
      },
      {
         "cell_type": "code",
         "execution_count": null,
         "metadata": {},
         "outputs": [
            {
               "name": "stdout",
               "output_type": "stream",
               "text": [
                  "`tags` contains the tag of each atom: 0 - Fixed, sub-surface atoms, 1 - Free, surface atoms 2 - Free, adsorbate atoms\n",
                  "torch.Size([4585])\n",
                  "tensor([0, 1, 0,  ..., 2, 2, 2], device='cuda:0')\n"
               ]
            }
         ],
         "source": [
            "print(\"`tags` contains the tag of each atom: 0 - Fixed, sub-surface atoms, 1 - Free, surface atoms 2 - Free, adsorbate atoms\")\n",
            "print(b.tags.shape)\n",
            "print(b.tags)"
         ]
      },
      {
         "cell_type": "code",
         "execution_count": null,
         "metadata": {},
         "outputs": [
            {
               "name": "stdout",
               "output_type": "stream",
               "text": [
                  "`y_init` and `y_relaxed` respectively contain the initial and relaxed energies of each graph:\n",
                  "torch.Size([64]) torch.Size([64])\n",
                  "tensor([0.5247, 2.9358, 0.5761, 0.1011, 3.9838], device='cuda:0') tensor([-2.6237, -0.4135, -2.4655, -3.4437, -0.8626], device='cuda:0')\n"
               ]
            }
         ],
         "source": [
            "print(\"`y_init` and `y_relaxed` respectively contain the initial and relaxed energies of each graph:\")\n",
            "print(b.y_init.shape, b.y_relaxed.shape)\n",
            "print(b.y_init[:5], b.y_relaxed[:5])"
         ]
      },
      {
         "cell_type": "code",
         "execution_count": null,
         "metadata": {},
         "outputs": [
            {
               "name": "stdout",
               "output_type": "stream",
               "text": [
                  "`ptr` ??\n",
                  "torch.Size([65])\n",
                  "tensor([   0,   40,   95,  138,  194,  272,  383,  453,  516,  583,  682,  782,\n",
                  "         834,  894,  984, 1024, 1093, 1170, 1269, 1321, 1406, 1506, 1538, 1588,\n",
                  "        1666, 1733, 1799, 1867, 1946, 2060, 2113, 2167, 2246, 2343, 2526, 2618,\n",
                  "        2685, 2760, 2810, 2820, 2920, 2984, 3035, 3122, 3176, 3246, 3333, 3398,\n",
                  "        3501, 3571, 3641, 3706, 3775, 3827, 3925, 3984, 4033, 4108, 4177, 4217,\n",
                  "        4284, 4355, 4387, 4472, 4585], device='cuda:0')\n"
               ]
            }
         ],
         "source": [
            "print(\"`ptr` ??\")\n",
            "print(b.ptr.shape)\n",
            "print(b.ptr)"
         ]
      },
      {
         "cell_type": "code",
         "execution_count": null,
         "metadata": {},
         "outputs": [
            {
               "name": "stdout",
               "output_type": "stream",
               "text": [
                  "`neighbors` ??\n",
                  "torch.Size([64])\n",
                  "tensor([1372, 1634, 1813, 2502, 2300, 5449, 3109, 1976, 1640, 4159, 2952,  880,\n",
                  "        2677, 2684, 1086, 2954, 3554, 4461, 2455, 3349, 2812,  894, 2024, 2734,\n",
                  "        1760, 2691, 2576, 1466, 2760, 2254, 1604, 2504, 4218, 7825, 4034, 2290,\n",
                  "        3070, 2100,   90, 4486, 2920, 1890, 2012, 2180, 2886, 3236, 2741, 2954,\n",
                  "        2056, 3220, 1352, 3212, 2217, 4535, 2602, 1816, 3114, 3243, 1292, 2912,\n",
                  "        2396,  378, 3330, 5296], device='cuda:0')\n",
                  "tensor(170988, device='cuda:0')\n"
               ]
            }
         ],
         "source": [
            "print(\"`neighbors` ??\")\n",
            "print(b.neighbors.shape)\n",
            "print(b.neighbors)\n",
            "print(b.neighbors.sum())"
         ]
      },
      {
         "cell_type": "markdown",
         "metadata": {},
         "source": [
            "### Find atoms in graphs"
         ]
      },
      {
         "cell_type": "code",
         "execution_count": null,
         "metadata": {},
         "outputs": [
            {
               "name": "stdout",
               "output_type": "stream",
               "text": [
                  "tensor([ 0,  1,  2,  3,  4,  5,  6,  7,  8,  9, 10, 11, 12, 13, 14, 15, 16, 17,\n",
                  "        18, 19, 20, 21, 22, 23, 24, 25, 26, 27, 28, 29, 30, 31, 32, 33, 34, 35,\n",
                  "        36, 37, 38, 39], device='cuda:0')\n"
               ]
            }
         ],
         "source": [
            "# select a graph you care about. graph_id is equivalent to a batch index\n",
            "graph_id = 0\n",
            "# find the atom indices of that graph\n",
            "atoms = torch.argwhere(b.batch == graph_id).squeeze()\n",
            "# the number of atoms selected above should match natoms\n",
            "assert len(atoms) == b.natoms[graph_id]\n",
            "print(atoms)"
         ]
      },
      {
         "cell_type": "code",
         "execution_count": null,
         "metadata": {},
         "outputs": [
            {
               "name": "stdout",
               "output_type": "stream",
               "text": [
                  "torch.Size([170988])\n",
                  "tensor([ True,  True,  True,  ..., False, False, False], device='cuda:0')\n",
                  "torch.Size([2, 1372])\n",
                  "tensor([[19, 18, 14,  ..., 25, 19, 14],\n",
                  "        [ 0,  0,  0,  ..., 39, 39, 39]], device='cuda:0')\n"
               ]
            }
         ],
         "source": [
            "# find the indices of edges in that graph\n",
            "# ie edges whose atoms are in the graph's atoms list\n",
            "# (assumes an edge can not link 2 atoms from different graphs)\n",
            "edge_indices = torch.isin(b.edge_index[0, :], atoms)\n",
            "# select the actual edges from the indices\n",
            "edges = b.edge_index[:, edge_indices]\n",
            "print(edge_indices.shape)\n",
            "print(edge_indices)\n",
            "print(edges.shape)\n",
            "print(edges)\n"
         ]
      },
      {
         "cell_type": "code",
         "execution_count": null,
         "metadata": {},
         "outputs": [
            {
               "name": "stdout",
               "output_type": "stream",
               "text": [
                  "torch.Size([40, 3])\n"
               ]
            }
         ],
         "source": [
            "# find the forces experienced by each atom in the graph\n",
            "forces = b.force[atoms]\n",
            "print(forces.shape)"
         ]
      },
      {
         "cell_type": "code",
         "execution_count": null,
         "metadata": {},
         "outputs": [
            {
               "name": "stdout",
               "output_type": "stream",
               "text": [
                  "torch.Size([1372])\n"
               ]
            }
         ],
         "source": [
            "# find the length of each edge\n",
            "distances = b.distances[edge_indices]\n",
            "# the number of distances must match the number of edges\n",
            "assert len(distances) == edges.shape[1]\n",
            "print(distances.shape)"
         ]
      },
      {
         "cell_type": "code",
         "execution_count": null,
         "metadata": {},
         "outputs": [
            {
               "name": "stdout",
               "output_type": "stream",
               "text": [
                  "tensor([0, 1, 0, 0, 0, 1, 1, 0, 0, 0, 0, 1, 1, 0, 1, 0, 1, 0, 0, 0, 1, 1, 0, 0,\n",
                  "        0, 1, 0, 0, 0, 1, 1, 0, 0, 0, 0, 1, 2, 2, 2, 2], device='cuda:0')\n",
                  "['fixed', 'surface', 'fixed', 'fixed', 'fixed', 'surface', 'surface', 'fixed', 'fixed', 'fixed', 'fixed', 'surface', 'surface', 'fixed', 'surface', 'fixed', 'surface', 'fixed', 'fixed', 'fixed', 'surface', 'surface', 'fixed', 'fixed', 'fixed', 'surface', 'fixed', 'fixed', 'fixed', 'surface', 'surface', 'fixed', 'fixed', 'fixed', 'fixed', 'surface', 'adsorbate', 'adsorbate', 'adsorbate', 'adsorbate']\n"
               ]
            }
         ],
         "source": [
            "# find the tag of each graph atom\n",
            "tags = b.tags[atoms]\n",
            "print(tags)\n",
            "print(list(np.array([\"fixed\", \"surface\", \"adsorbate\"])[tags.cpu().numpy()]))\n"
         ]
      },
      {
         "cell_type": "code",
         "execution_count": null,
         "metadata": {},
         "outputs": [
            {
               "name": "stdout",
               "output_type": "stream",
               "text": [
                  "tensor([6., 6., 1., 1.], device='cuda:0')\n"
               ]
            }
         ],
         "source": [
            "# find adsorbate atomic numbers\n",
            "adsorbates_numbers = b.atomic_numbers[atoms][tags == 2]\n",
            "print(adsorbates_numbers)"
         ]
      },
      {
         "cell_type": "code",
         "execution_count": null,
         "metadata": {},
         "outputs": [],
         "source": [
            "from ase import Atoms\n",
            "\n",
            "x = Atoms(numbers=[int(i) for i in adsorbates_numbers])"
         ]
      },
      {
         "cell_type": "code",
         "execution_count": null,
         "metadata": {},
         "outputs": [
            {
               "name": "stdout",
               "output_type": "stream",
               "text": [
                  "H2O: 1\n",
                  "H2: 0\n",
                  "\n",
                  "C2H2      : 3\n",
                  "C2H3O2    : 4\n",
                  "C2H       : 2\n",
                  "C2H5O     : 4\n",
                  "C2H2O2    : 4\n",
                  "N2O       : 2\n",
                  "C2H5      : 3\n",
                  "C2H5O2    : 1\n",
                  "NO2       : 1\n",
                  "H2O       : 1\n",
                  "CH3       : 3\n",
                  "C2H4O2    : 2\n",
                  "CH4       : 4\n",
                  "C2HO2     : 2\n",
                  "CH2       : 2\n",
                  "H2N2      : 1\n",
                  "NO        : 3\n",
                  "N2HO      : 2\n",
                  "C2H4O     : 3\n",
                  "CN        : 1\n",
                  "C2O       : 3\n",
                  "N2H       : 1\n",
                  "NH        : 1\n",
                  "N2H2      : 1\n",
                  "C2H3O     : 3\n",
                  "O4N2      : 1\n",
                  "N         : 1\n",
                  "C2        : 1\n",
                  "C2H2O     : 1\n",
                  "O         : 1\n",
                  "NH3O      : 2\n",
                  "\n"
               ]
            }
         ],
         "source": [
            "symbols = []\n",
            "for gid in range(len(b.sid)):\n",
            "    a = torch.argwhere(b.batch == gid).squeeze()\n",
            "    t  = b.tags[a]\n",
            "    an = b.atomic_numbers[a][t == 2]\n",
            "    symbols.append(str(Atoms(numbers=[int(i) for i in an]).symbols))\n",
            "\n",
            "from collections import Counter\n",
            "\n",
            "sym_counts = Counter(symbols)\n",
            "print(\"H2O:\", sym_counts.get(\"H2O\", 0))\n",
            "print(\"H2:\", sym_counts.get(\"H2\", 0))\n",
            "print()\n",
            "print(dict2str(sym_counts, margin=10))"
         ]
      },
      {
         "cell_type": "code",
         "execution_count": null,
         "metadata": {},
         "outputs": [],
         "source": []
      },
      {
         "cell_type": "code",
         "execution_count": null,
         "metadata": {},
         "outputs": [],
         "source": []
      },
      {
         "cell_type": "code",
         "execution_count": null,
         "metadata": {},
         "outputs": [],
         "source": []
      },
      {
         "cell_type": "code",
         "execution_count": null,
         "metadata": {},
         "outputs": [],
         "source": []
      },
      {
         "cell_type": "code",
         "execution_count": null,
         "metadata": {},
         "outputs": [],
         "source": []
      },
      {
         "cell_type": "code",
         "execution_count": null,
         "metadata": {},
         "outputs": [],
         "source": []
      },
      {
         "cell_type": "code",
         "execution_count": null,
         "metadata": {},
         "outputs": [],
         "source": [
            "# forward the batch, compute loss and metrics\n",
            "\n",
            "out = trainer._forward(batch)\n",
            "loss = trainer._compute_loss(out, batch)\n",
            "metrics = trainer.compute_metrics(\n",
            "    out,\n",
            "    batch,\n",
            "    trainer.evaluator,\n",
            "    metrics={},\n",
            ")\n"
         ]
      },
      {
         "cell_type": "code",
         "execution_count": null,
         "metadata": {},
         "outputs": [
            {
               "name": "stdout",
               "output_type": "stream",
               "text": [
                  "dict_keys(['energy'])\n",
                  "torch.Size([64]) torch.float32\n",
                  "tensor(48.8437, device='cuda:0', grad_fn=<L1LossBackward0>)\n",
                  "energy_mae                    : \n",
                  "    metric                    : 111.33262634277344\n",
                  "    total                     : 7125.2880859375\n",
                  "    numel                     : 64\n",
                  "\n",
                  "energy_mse                    : \n",
                  "    metric                    : 21693.33984375\n",
                  "    total                     : 1388373.75\n",
                  "    numel                     : 64\n",
                  "\n",
                  "energy_within_threshold       : \n",
                  "    metric                    : 0.0\n",
                  "    total                     : 0\n",
                  "    numel                     : 64\n",
                  "\n",
                  "\n"
               ]
            }
         ],
         "source": [
            "# explore contents of predictions, loss, metrics\n",
            "\n",
            "print(out.keys())\n",
            "print(out[\"energy\"].shape, out[\"energy\"].dtype)\n",
            "print(loss)\n",
            "print(dict2str(metrics))"
         ]
      },
      {
         "cell_type": "markdown",
         "metadata": {},
         "source": [
            "## LMDBs"
         ]
      },
      {
         "cell_type": "code",
         "execution_count": null,
         "metadata": {},
         "outputs": [],
         "source": [
            "def ls(p):\n",
            "\n",
            "    assert Path(p).is_dir()\n",
            "    return list(Path(p).iterdir())"
         ]
      },
      {
         "cell_type": "code",
         "execution_count": null,
         "metadata": {},
         "outputs": [],
         "source": [
            "d = trainer.train_loader.dataset"
         ]
      },
      {
         "cell_type": "code",
         "execution_count": null,
         "metadata": {},
         "outputs": [
            {
               "data": {
                  "text/plain": [
                     "PosixPath('/network/projects/_groups/ocp/oc20/is2re/10k/train/data.lmdb')"
                  ]
               },
               "execution_count": 15,
               "metadata": {},
               "output_type": "execute_result"
            }
         ],
         "source": [
            "d.path"
         ]
      },
      {
         "cell_type": "code",
         "execution_count": null,
         "metadata": {},
         "outputs": [
            {
               "data": {
                  "text/plain": [
                     "[PosixPath('/network/projects/_groups/ocp/oc20/is2re/10k/train/data.lmdb-lock'),\n",
                     " PosixPath('/network/projects/_groups/ocp/oc20/is2re/10k/train/data.lmdb')]"
                  ]
               },
               "execution_count": 16,
               "metadata": {},
               "output_type": "execute_result"
            }
         ],
         "source": [
            "ls(d.path.parent)"
         ]
      },
      {
         "cell_type": "code",
         "execution_count": null,
         "metadata": {},
         "outputs": [
            {
               "data": {
                  "text/plain": [
                     "<Environment at 0x7fcb07444210>"
                  ]
               },
               "execution_count": 17,
               "metadata": {},
               "output_type": "execute_result"
            }
         ],
         "source": [
            "d.env"
         ]
      },
      {
         "cell_type": "code",
         "execution_count": null,
         "metadata": {},
         "outputs": [],
         "source": [
            "import lmdb\n",
            "\n"
         ]
      },
      {
         "cell_type": "code",
         "execution_count": null,
         "metadata": {},
         "outputs": [
            {
               "data": {
                  "text/plain": [
                     "10000"
                  ]
               },
               "execution_count": 19,
               "metadata": {},
               "output_type": "execute_result"
            }
         ],
         "source": [
            "d.env.stat()[\"entries\"]"
         ]
      },
      {
         "cell_type": "code",
         "execution_count": null,
         "metadata": {},
         "outputs": [
            {
               "data": {
                  "text/plain": [
                     "b'0'"
                  ]
               },
               "execution_count": 20,
               "metadata": {},
               "output_type": "execute_result"
            }
         ],
         "source": [
            "f\"{0}\".encode(\"ascii\")"
         ]
      },
      {
         "cell_type": "code",
         "execution_count": null,
         "metadata": {},
         "outputs": [],
         "source": [
            "import pickle\n",
            "\n",
            "sample = pickle.loads(d.env.begin().get(f\"{0}\".encode(\"ascii\")))"
         ]
      },
      {
         "cell_type": "code",
         "execution_count": null,
         "metadata": {},
         "outputs": [],
         "source": [
            "from torch_geometric.data import Data\n",
            "\n",
            "sample = Data(**{k: v for k, v in sample.__dict__.items() if v is not None})"
         ]
      },
      {
         "cell_type": "code",
         "execution_count": null,
         "metadata": {},
         "outputs": [
            {
               "data": {
                  "text/plain": [
                     "Data(edge_index=[2, 2964], pos=[86, 3], cell=[1, 3, 3], atomic_numbers=[86], natoms=86, cell_offsets=[2964, 3], force=[86, 3], distances=[2964], fixed=[86], sid=2472718, tags=[86], y_init=6.282500615000004, y_relaxed=-0.025550085000020317, pos_relaxed=[86, 3])"
                  ]
               },
               "execution_count": 27,
               "metadata": {},
               "output_type": "execute_result"
            }
         ],
         "source": [
            "sample"
         ]
      },
      {
         "cell_type": "code",
         "execution_count": null,
         "metadata": {},
         "outputs": [],
         "source": []
      }
   ],
   "metadata": {
      "kernelspec": {
         "display_name": "venv",
         "language": "python",
         "name": "python3"
      },
      "language_info": {
         "codemirror_mode": {
            "name": "ipython",
            "version": 3
         },
         "file_extension": ".py",
         "mimetype": "text/x-python",
         "name": "python",
         "nbconvert_exporter": "python",
         "pygments_lexer": "ipython3",
         "version": "3.8.2"
      },
      "orig_nbformat": 4
   },
   "nbformat": 4,
   "nbformat_minor": 2
}
